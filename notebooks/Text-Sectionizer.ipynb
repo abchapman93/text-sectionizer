{
 "cells": [
  {
   "cell_type": "code",
   "execution_count": 1,
   "id": "special-biography",
   "metadata": {},
   "outputs": [],
   "source": [
    "import sys"
   ]
  },
  {
   "cell_type": "code",
   "execution_count": 2,
   "id": "romantic-grill",
   "metadata": {},
   "outputs": [],
   "source": [
    "sys.path.insert(0, \"..\")"
   ]
  },
  {
   "cell_type": "code",
   "execution_count": 3,
   "id": "continuing-latino",
   "metadata": {},
   "outputs": [],
   "source": [
    "from text_sectionizer import TextSectionizer"
   ]
  },
  {
   "cell_type": "code",
   "execution_count": 4,
   "id": "toxic-solomon",
   "metadata": {},
   "outputs": [],
   "source": [
    "def read_discharge_summary():\n",
    "    url = \"https://raw.githubusercontent.com/medspacy/OHDSI_Tutorial/master/discharge_summary.txt\"\n",
    "    import urllib\n",
    "\n",
    "    with urllib.request.urlopen(url) as f:\n",
    "        text = f.read().decode()\n",
    "    return text\n",
    "\n",
    "text = read_discharge_summary()"
   ]
  },
  {
   "cell_type": "code",
   "execution_count": 5,
   "id": "plastic-climate",
   "metadata": {},
   "outputs": [],
   "source": [
    "sectionizer = TextSectionizer()"
   ]
  },
  {
   "cell_type": "code",
   "execution_count": 6,
   "id": "knowing-productivity",
   "metadata": {},
   "outputs": [
    {
     "data": {
      "text/plain": [
       "<text_sectionizer.text_sectionizer.TextSectionizer at 0x111b29ee0>"
      ]
     },
     "execution_count": 6,
     "metadata": {},
     "output_type": "execute_result"
    }
   ],
   "source": [
    "sectionizer"
   ]
  },
  {
   "cell_type": "code",
   "execution_count": 8,
   "id": "temporal-preserve",
   "metadata": {},
   "outputs": [],
   "source": [
    "section_matches = sectionizer(text)"
   ]
  },
  {
   "cell_type": "code",
   "execution_count": 10,
   "id": "beautiful-exposure",
   "metadata": {},
   "outputs": [
    {
     "name": "stdout",
     "output_type": "stream",
     "text": [
      "None\n",
      "None\n",
      "\n",
      "Date of Birth:  [**2498-8-19**]             Sex:   F\n",
      "\n",
      "\n",
      "\n",
      "\n",
      "------------\n",
      "\n",
      "\n",
      "history_of_present_illness\n",
      "History of Present Illness:\n",
      "\n",
      "History of Present Illness:\n",
      "74y female with type 2 dm and a recent stroke affecting her\n",
      "speech, who presents with 2 days of abdominal pain. Imaging shows no evidence of metastasis.\n",
      "\n",
      "\n",
      "\n",
      "\n",
      "------------\n",
      "\n",
      "\n",
      "past_medical_history\n",
      "Past Medical History:\n",
      "\n",
      "Past Medical History:\n",
      "1. Colon cancer dx'd in [**2554**], tx'd with hemicolectomy, XRT,\n",
      "chemo. Last colonoscopy showed: Last CEA was in the 8 range\n",
      "(down from 9)\n",
      "2. Type II Diabetes Mellitus\n",
      "3. Hypertension\n",
      "\n",
      "\n",
      "\n",
      "\n",
      "------------\n",
      "\n",
      "\n",
      "social_history\n",
      "Social History:\n",
      "\n",
      "Social History:\n",
      "Married, former tobacco use. No alcohol or drug use.\n",
      "\n",
      "\n",
      "\n",
      "\n",
      "------------\n",
      "\n",
      "\n",
      "family_history\n",
      "Family History:\n",
      "\n",
      "Family History:\n",
      "Mother with stroke at age 82. no early deaths.\n",
      "2 daughters- healthy\n",
      "\n",
      "\n",
      "\n",
      "\n",
      "\n",
      "------------\n",
      "\n",
      "\n",
      "hospital_course\n",
      "Brief Hospital Course:\n",
      "\n",
      "Brief Hospital Course:\n",
      "Ms. [**Known patient lastname 2004**] was admitted on [**2573-5-30**]. Ultrasound at the time of\n",
      "admission demonstrated pancreatic duct dilitation and an\n",
      "edematous gallbladder. She was admitted to the ICU.\n",
      "\n",
      "\n",
      "\n",
      "\n",
      "------------\n",
      "\n",
      "\n",
      "medications\n",
      "Discharge Medications:\n",
      "\n",
      "Discharge Medications:\n",
      "1. Miconazole Nitrate 2 % Powder Sig: One (1) Appl Topical  BID\n",
      "(2 times a day) as needed.\n",
      "\n",
      "\n",
      "\n",
      "\n",
      "------------\n",
      "\n",
      "\n",
      "observation_and_plan\n",
      "Discharge Diagnosis:\n",
      "\n",
      "Discharge Diagnosis:\n",
      "Type 2 DM\n",
      "Pancreatitis\n",
      "HTN\n",
      "\n",
      "\n",
      "\n",
      "\n",
      "\n",
      "------------\n",
      "\n",
      "\n",
      "patient_instructions\n",
      "Discharge Instructions:\n",
      "\n",
      "Discharge Instructions:\n",
      "Patient may shower. Please call your surgeon or return to the\n",
      "emergency room if [**Doctor First Name **] experience fever >101.5, nausea, vomiting,\n",
      "abdominal pain, shortness of breath, abdominal pain or any\n",
      "significant  change in your medical condition. A\n",
      "\n",
      "\n",
      "------------\n",
      "\n",
      "\n"
     ]
    }
   ],
   "source": [
    "for (category, title, text) in section_matches:\n",
    "    print(category)\n",
    "    print(title)\n",
    "    print()\n",
    "    print(text)\n",
    "    print(\"\\n\\n------------\\n\\n\")"
   ]
  },
  {
   "cell_type": "code",
   "execution_count": null,
   "id": "religious-modeling",
   "metadata": {},
   "outputs": [],
   "source": []
  }
 ],
 "metadata": {
  "kernelspec": {
   "display_name": "Python 3",
   "language": "python",
   "name": "python3"
  },
  "language_info": {
   "codemirror_mode": {
    "name": "ipython",
    "version": 3
   },
   "file_extension": ".py",
   "mimetype": "text/x-python",
   "name": "python",
   "nbconvert_exporter": "python",
   "pygments_lexer": "ipython3",
   "version": "3.8.5"
  }
 },
 "nbformat": 4,
 "nbformat_minor": 5
}
